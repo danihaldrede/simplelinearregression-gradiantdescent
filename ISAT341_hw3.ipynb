{
 "cells": [
  {
   "cell_type": "markdown",
   "metadata": {},
   "source": [
    "# Homework Three - Simple Linear Regression and Gradient Descent\n",
    "## Objective\n",
    "\n",
    "As a result of completing this exercise you should be able to:\n",
    "\n",
    "- Review Partial Derivatives\n",
    "- Understand the theory for Simple Linear Regression\n",
    "- Understand the concept of Gradient Descent\n",
    "- Implement Gradient Descent algorithm for Simple Linear Regression\n",
    "- Build a Simple Linear Regression model use scikit learn methods\n",
    "- Build a Simple Linear Regression model using Gradient Descent(Bonus) "
   ]
  },
  {
   "cell_type": "markdown",
   "metadata": {},
   "source": [
    "## Instructions\n",
    "\n",
    "### Sections\n",
    "This homework includes two sections. In the first section, you will do exercise on math and theory behind linear regression and gradient descent. In the second section, you will implement functions for gradient decesnt and simple linear regression in Python. \n",
    "\n",
    "### Submission\n",
    "The assignment should be submitted on Canvas. You will submit a single zip file.  \n",
    "\n",
    "- Put all your work into a folder, which should have the \n",
    "    - \"ISAT341_hw3.ipynb\", which includes your solutions for the first section and your codes for the second section\n",
    "    - a subfolder called \"datasets\",which contains the test data 'calcofi.csv'\n",
    "    - a subfolder called \"images\", which contains the images for Q9 and Q10 and (if you use photos or images to show your work) all the images you displayed in the Jupyter Notebook\n",
    "- Compress your homework folder into a zip file\n",
    "- Name you zip file as \"hw3_$\\lt$your JMU eid$\\gt$\". For example, Dr. Yang's eid is yang4cx, then the submission would be \"hw3_yang4cx.zip\""
   ]
  },
  {
   "cell_type": "markdown",
   "metadata": {},
   "source": [
    "## Section I: Concept and Theory"
   ]
  },
  {
   "cell_type": "markdown",
   "metadata": {},
   "source": [
    "### Partial Derivatives\n",
    "Given the following functions of variables (u, v, w), what are the patial deriviates (Q1 to Q6)? \n",
    "\n",
    "$$ f(u,v) = 5u^2v^3 + 2u^2 + 7v $$\n",
    "$$ g(u,v,w) = 10xu^2+ 2xv + yuvw^5 + 3u^2w $$\n",
    "$$ h(u,v) =  \\frac{1}{2} \\sum_{i=1}^{m} (x^{(i)}u+v-y^{(i)})^2$$\n",
    "\n",
    "\n",
    "Please view other variables (x,y) as constants\n",
    " \n",
    "In a machine learning alogrithm\n",
    " \n",
    " - The variables u, v, w are like the parameters or weight, i.e.,$\\mathbf{\\theta}$, which change during the learning process to get the minimum cost\n",
    " - Those other variable x and y can be view as the training data, which won't chnage during the model learning process"
   ]
  },
  {
   "cell_type": "markdown",
   "metadata": {},
   "source": [
    "Q1. $\\frac{\\partial}{\\partial u}f(u,v) = 10uv^3+4u$"
   ]
  },
  {
   "cell_type": "markdown",
   "metadata": {},
   "source": [
    "Q2. $\\frac{\\partial}{\\partial v}f(u,v) =15u^2v^2+7$"
   ]
  },
  {
   "cell_type": "markdown",
   "metadata": {},
   "source": [
    "Q3. $\\frac{\\partial}{\\partial w}g(u,v,w) = 5yuvw^4+3u^2 $"
   ]
  },
  {
   "cell_type": "markdown",
   "metadata": {},
   "source": [
    "Q4. $\\frac{\\partial}{\\partial u}g(u,v,w) = 20xu+yvw^5+6uw $"
   ]
  },
  {
   "cell_type": "markdown",
   "metadata": {},
   "source": [
    "Q5. $\\frac{\\partial}{\\partial u}h(u,v) =\\frac{1}{2} \\sum_{i=1}^{m} (x^{i})^2$"
   ]
  },
  {
   "cell_type": "markdown",
   "metadata": {},
   "source": [
    "Q6. $\\frac{\\partial}{\\partial v}h(u,v) = \\frac {1}{2}\\sum (x^i+y^i)$"
   ]
  },
  {
   "cell_type": "markdown",
   "metadata": {},
   "source": [
    "### Gradient with Partial Derivatives\n",
    "Parital derivatives of a function can help us find the gradient, the slope, with respect to given variable. When the gradient or slope equals to zero, it reaches to the local minimum or maximum of the function."
   ]
  },
  {
   "cell_type": "markdown",
   "metadata": {},
   "source": [
    "Given that the general hypothesis function and cost function for simple linear regresion are\n",
    "\n",
    "- Hypothesis for a simple linear regression with only slope:\n",
    "$$\n",
    "h_\\theta(x)= \\theta_1x\n",
    "$$\n",
    "- Cost function for a simple linear regression:\n",
    "$$\n",
    "J(\\theta) = \\frac{1}{2} \\sum_{i=1}^{m}(h_\\theta(x^{(i)})-y^{(i)})^2\n",
    "$$\n",
    "\n",
    "We have training data with two samples:\n",
    "\n",
    "| x  | y |\n",
    "| -- |-- |\n",
    "| 1 | 3 |\n",
    "| -3 | -4 |\n"
   ]
  },
  {
   "cell_type": "markdown",
   "metadata": {},
   "source": [
    "Q7. Find the value of $\\theta_1$ that minimizes the cost function (the $J(\\theta)$ function above)\n",
    "    \n",
    "   - Substitute the values from the training data into\n",
    "the cost function, \n",
    "   - Set the derivative equal to zero\n",
    "   - Solve the equation and find the value for $\\theta_1$\n",
    "   \n",
    "   Show your work."
   ]
  },
  {
   "cell_type": "markdown",
   "metadata": {},
   "source": [
    "- Substitute answer= $$5\\theta^2-15 \\theta+25$$\n",
    "- Set derivative to zero= $$\\theta=1.5$$\n",
    "- Hypothesis= $$h_\\theta(x)=\\theta_1x_1=1.5x$$"
   ]
  },
  {
   "cell_type": "markdown",
   "metadata": {},
   "source": [
    "Q8. Find the general expression for $\\theta_1$\n",
    "   \n",
    "   - Leave the x(i) and y(i) variables as constanct\n",
    "   - Take the partial derivatives of the given cost function with respect to $\\theta_1$\n",
    "   - Set those partail derviative equal to zero\n",
    "   - Find the general expression of $\\theta_1$ in terms of the training data by solving the above equation (partial derivative equals to zero)\n",
    "   - Solve for the value of $\\theta_1$ that minimizes the cost function (the $J(\\theta)$ function above) by plugging the values of training data\n",
    "\n",
    " \n",
    "Show your work."
   ]
  },
  {
   "cell_type": "markdown",
   "metadata": {},
   "source": [
    "- leave partial= $$\\theta x^2-x_2y_1+\\theta x_2^2-x_2y_2$$\n",
    "- general expression = $$\\theta = \\sqrt (\\frac{x_1y_1+x_2y_2}{x_1+x_2})$$\n",
    "- solve= $$ \\theta = 1.5$$"
   ]
  },
  {
   "cell_type": "markdown",
   "metadata": {},
   "source": [
    "Note: the value you found in Q7 and Q8 should be the same."
   ]
  },
  {
   "cell_type": "markdown",
   "metadata": {},
   "source": [
    "### Intuition of Gradient with Contour Plot\n",
    "A coutor plot shows the f(x,y) value with given x and y on a 2D plot. When the slope (gradient) with regard of x is positive at given data (x,y), then you will see the f(x,y) is smaller than f(x+1, y) otherwise, f(x,y) is largr than f(x+1, y). \n",
    "\n",
    "Note: only consider one axis at a time, and keep the other variable as constant, just as doing the partial derivatives\n"
   ]
  },
  {
   "cell_type": "markdown",
   "metadata": {},
   "source": [
    "For example, with below contour plot (which shows the value of g(u,v)), we can see g(2,-2)= 12 and g(3, -2) $\\approx$ 20. Then, $\\frac{\\partial}{\\partial{u}}g(2,-2)$ is positive.\n",
    "\n",
    "Using the same contour plot to the partial derivatives in Q9-Q10 is positive, negative, or zero. (You don't need to know the forumla of the function to answer the questions)"
   ]
  },
  {
   "cell_type": "code",
   "execution_count": 4,
   "metadata": {
    "scrolled": true
   },
   "outputs": [
    {
     "data": {
      "image/png": "[encoded data removed]",
      "text/plain": [
       "<IPython.core.display.Image object>"
      ]
     },
     "execution_count": 4,
     "metadata": {},
     "output_type": "execute_result"
    }
   ],
   "source": [
    "from IPython.display import Image\n",
    "Image('./images/contour.png')"
   ]
  },
  {
   "cell_type": "markdown",
   "metadata": {},
   "source": [
    "Q9. Is $\\frac{\\partial}{\\partial{u}}g(-2,0)$ positive, negative, or zero?"
   ]
  },
  {
   "cell_type": "markdown",
   "metadata": {},
   "source": [
    "Negative"
   ]
  },
  {
   "cell_type": "markdown",
   "metadata": {},
   "source": [
    "Q10. Is $\\frac{\\partial}{\\partial{v}}g(-2,0)$ positive, negative, or zero?"
   ]
  },
  {
   "cell_type": "markdown",
   "metadata": {},
   "source": [
    "Negative"
   ]
  },
  {
   "cell_type": "markdown",
   "metadata": {},
   "source": [
    "## Section II: Programming"
   ]
  },
  {
   "cell_type": "markdown",
   "metadata": {},
   "source": [
    "### Gradient Descent for Simple Linear Regression\n",
    "\n",
    "Please implement a gradient descent algorithm for simple linear regression. A simple linear regression uses a linear function to describe the relationship between two variables. You can predict your target value y based on one feature x and two parameters, $\\theta_0$ and $\\theta_1$\n",
    "\n",
    "$$ y = h_\\theta(x) $$"
   ]
  },
  {
   "cell_type": "markdown",
   "metadata": {},
   "source": [
    "#### Equations for the functions in a simple linear regression"
   ]
  },
  {
   "cell_type": "markdown",
   "metadata": {},
   "source": [
    "Q11. What is the genereal equation for hypothesis of a simple linear regression? "
   ]
  },
  {
   "cell_type": "markdown",
   "metadata": {},
   "source": [
    "$$\n",
    "y \\approx \\hat{y} = h_\\theta(x)= \\theta_0 + \\theta_1x_1\n",
    "$$"
   ]
  },
  {
   "cell_type": "markdown",
   "metadata": {},
   "source": [
    "Q12. What is the cost function we learned for cost function of a simple linear regression?"
   ]
  },
  {
   "cell_type": "markdown",
   "metadata": {},
   "source": [
    "$$\n",
    "J(\\theta) = \\frac{1}{2} \\sum_{i=1}^{m}(h_\\theta(x^{(i)})-y^{(i)})^2\n",
    "$$\n",
    "$$\n",
    "= \\frac{1}{2} (h_\\theta(x^{(1)})-y^{(1)})^2\n",
    "$$"
   ]
  },
  {
   "cell_type": "markdown",
   "metadata": {},
   "source": [
    "#### Implement those functions using Python below:\n",
    "Q13 to Q15"
   ]
  },
  {
   "cell_type": "code",
   "execution_count": 10,
   "metadata": {},
   "outputs": [],
   "source": [
    "# install pacakges \n",
    "import matplotlib.pyplot as plt \n",
    "import numpy as np \n",
    "\n",
    "# define your hypothesis\n",
    "# it is necessary as you will use the h(x) in your gradient descent algo\n",
    "# in the function, remeber to include arguments needed: e.g., h(x,.....)\n",
    "def h(theta0, theta1, x):\n",
    "    # type your hypothesis equation\n",
    "    hyp=theta0+theta1*x\n",
    "    \n",
    "    #return the calcuation value\n",
    "    return hyp"
   ]
  },
  {
   "cell_type": "code",
   "execution_count": 11,
   "metadata": {},
   "outputs": [],
   "source": [
    "# define your cost function, if you want to print out the cost\n",
    "# in the function, remeber to include arguments needed: e.g., J(theta,.....)\n",
    "def J(theta0, theta1, x, y):\n",
    "    # type your cost function equation\n",
    "    J=0.5*(h(theta0, theta1,x)-y)^2\n",
    "    \n",
    "    #return the calcuation value\n",
    "    return cost"
   ]
  },
  {
   "cell_type": "code",
   "execution_count": 29,
   "metadata": {},
   "outputs": [],
   "source": [
    "# Define a function to calcualte cost when you have more than one sample\n",
    "# You may bulid the function for muliple samples based on J function above\n",
    "# or build a new one\n",
    "# Note a loop may be needed to sum up all the costs from all the samples\n",
    "def J_m(theta0,theta1, x, y):\n",
    "    # type your cost function equation\n",
    "    sum=0\n",
    "    for i in range(2):\n",
    "        sum ==J(theta0, theta1, x[i], y[i])\n",
    "#return the calcuation value\n",
    "    return J_m"
   ]
  },
  {
   "cell_type": "markdown",
   "metadata": {},
   "source": [
    "#### Implement Gradient Descent algo. for a simple linear regression with one instance (one sample)\n",
    "\n",
    "Q16. \n",
    "\n",
    "Please set the training data as x = 10, y =3."
   ]
  },
  {
   "cell_type": "code",
   "execution_count": 30,
   "metadata": {},
   "outputs": [],
   "source": [
    "##preprocessing\n",
    "#intialize parameters values x and y \n",
    "theta_0_gd=(10)\n",
    "theta_1_gd=(3)\n",
    "\n",
    "# size it \n",
    "alpha=0.4\n",
    "\n",
    "#gradient descent \n",
    "for i in range():\n",
    "    #display cost function \n",
    "    J=0.5*(h(theta0, theta1,x)-y)^2\n",
    "    print(\"\")\n",
    "\n",
    "\n"
   ]
  },
  {
   "cell_type": "code",
   "execution_count": 14,
   "metadata": {},
   "outputs": [],
   "source": [
    "# learning\n",
    "# initialization\n",
    "\n",
    "\n",
    "# gradient descent algorithm: interatively taking steps in the steepest direction\n",
    "# you may use loops to do the iterations\n",
    "\n",
    "    # find new parameters and weights\n",
    "    \n",
    "\n",
    "\n"
   ]
  },
  {
   "cell_type": "markdown",
   "metadata": {},
   "source": [
    "Use your model with new feature values to predict new label. For example, x = 5."
   ]
  },
  {
   "cell_type": "code",
   "execution_count": 15,
   "metadata": {},
   "outputs": [],
   "source": [
    "# prediction\n",
    "# making prediction using the hypothesis with the parameter you found from the gradient descent\n"
   ]
  },
  {
   "cell_type": "markdown",
   "metadata": {},
   "source": [
    "#### Then, implement Gradient Descent algo. for a simple linear regression with mutliple instances (mutiple samples)\n",
    "\n",
    "Q 17. \n",
    "\n",
    "Please set the training data $${(x^{(1)},y^{(1)}),(x^{(2)},y^{(2)})} = {(10,3),(1,5)}$$\n",
    "you may use arrays or np.array to set your training data"
   ]
  },
  {
   "cell_type": "code",
   "execution_count": 16,
   "metadata": {},
   "outputs": [],
   "source": [
    "# preprocessing\n",
    "# set the traing data for samples: feature x and target value y\n"
   ]
  },
  {
   "cell_type": "code",
   "execution_count": 17,
   "metadata": {},
   "outputs": [],
   "source": [
    "# learning\n",
    "# initialization\n",
    "\n",
    "\n",
    "\n",
    "# gradient descent algorithm: interatively taking steps in the steepest direction\n",
    "# you may use loops to do the iterations\n",
    "\n",
    "    # find new parameters and weights\n",
    "   \n",
    "        "
   ]
  },
  {
   "cell_type": "markdown",
   "metadata": {},
   "source": [
    "Use your model with new feature values to predict new label. For example, x = 5."
   ]
  },
  {
   "cell_type": "code",
   "execution_count": 10,
   "metadata": {},
   "outputs": [],
   "source": [
    "# predicition\n",
    "# making prediction using the hypothesis with the parameter you found from the gradient descent\n"
   ]
  },
  {
   "cell_type": "markdown",
   "metadata": {},
   "source": [
    "### Build Simple Linear Regression Model with `scikit-learn` Package for Real-world Data\n",
    "Q18.\n",
    "\n",
    "In this question, please build a simple linear regression model using scikit-learn package to predict the salinity (target value) based on the water temperature (one feature) with the external data, \"calcofi.csv\". The external data (i.e., \"calcofi.csv\") includes 880 samples off the coast of California. \n",
    "\n",
    "*Please include the preprocessing, learning, and prediction steps. In the prediction step, please select your own value for the water temperature.* \n",
    " \n",
    "\n",
    "About the data set:\n",
    "\n",
    "The dataset in \"calcofi.csv\" is a subset and simplified version of CalCOFI data. CalCOFI data contain time series of oceanographic and larval fish data since 1949 from 50,000 sampling stations.\n",
    "\n",
    "\n",
    "| variable name | description  |\n",
    "| ------------- | ------------ |\n",
    "| Cst_Cnt | Auto-numbered Cast Count - all casts consecutively numbered. 1 is first station done |\n",
    "| Btl_Cnt | Auto-numbered Bottle count- all bottles ever sampled, consecutively numbered |\n",
    "| Depthm | Depth in meters |\n",
    "| T_degC | Water temperature in degree Celsius |\n",
    "| Salnty | Salinity in g of salt per kg of water (g/kg) |\n",
    "\n",
    "Data source:\n",
    "The data are from Kaggle and more details as well as data description can be found at https://www.kaggle.com/sohier/calcofi.\n",
    "\n"
   ]
  },
  {
   "cell_type": "code",
   "execution_count": 1,
   "metadata": {},
   "outputs": [],
   "source": [
    "##preprocessing\n",
    "#import packages \n",
    "import pandas as pd\n",
    "import numpy as np\n",
    "import matplotlib.pyplot as plt\n",
    "#load the data \n",
    "calcofi = pd.read_csv(\"./datasets/calcofi.csv\")"
   ]
  },
  {
   "cell_type": "code",
   "execution_count": 12,
   "metadata": {},
   "outputs": [
    {
     "name": "stdout",
     "output_type": "stream",
     "text": [
      "(880, 5)\n",
      "2\n"
     ]
    }
   ],
   "source": [
    "# check the shape of the DataFrame: rows and columns\n",
    "print(calcofi.shape)\n",
    "\n",
    "# check the dimension of the DataFrame\n",
    "print(calcofi.ndim)"
   ]
  },
  {
   "cell_type": "code",
   "execution_count": 2,
   "metadata": {},
   "outputs": [
    {
     "data": {
      "text/html": [
       "<div>\n",
       "<style scoped>\n",
       "    .dataframe tbody tr th:only-of-type {\n",
       "        vertical-align: middle;\n",
       "    }\n",
       "\n",
       "    .dataframe tbody tr th {\n",
       "        vertical-align: top;\n",
       "    }\n",
       "\n",
       "    .dataframe thead th {\n",
       "        text-align: right;\n",
       "    }\n",
       "</style>\n",
       "<table border=\"1\" class=\"dataframe\">\n",
       "  <thead>\n",
       "    <tr style=\"text-align: right;\">\n",
       "      <th></th>\n",
       "      <th>Cst_Cnt</th>\n",
       "      <th>Btl_Cnt</th>\n",
       "      <th>Depthm</th>\n",
       "      <th>T_degC</th>\n",
       "      <th>Salnty</th>\n",
       "    </tr>\n",
       "  </thead>\n",
       "  <tbody>\n",
       "    <tr>\n",
       "      <th>0</th>\n",
       "      <td>1</td>\n",
       "      <td>1</td>\n",
       "      <td>0</td>\n",
       "      <td>10.50</td>\n",
       "      <td>33.440</td>\n",
       "    </tr>\n",
       "    <tr>\n",
       "      <th>1</th>\n",
       "      <td>1</td>\n",
       "      <td>2</td>\n",
       "      <td>8</td>\n",
       "      <td>10.46</td>\n",
       "      <td>33.440</td>\n",
       "    </tr>\n",
       "    <tr>\n",
       "      <th>2</th>\n",
       "      <td>1</td>\n",
       "      <td>3</td>\n",
       "      <td>10</td>\n",
       "      <td>10.46</td>\n",
       "      <td>33.437</td>\n",
       "    </tr>\n",
       "    <tr>\n",
       "      <th>3</th>\n",
       "      <td>1</td>\n",
       "      <td>4</td>\n",
       "      <td>19</td>\n",
       "      <td>10.45</td>\n",
       "      <td>33.420</td>\n",
       "    </tr>\n",
       "    <tr>\n",
       "      <th>4</th>\n",
       "      <td>1</td>\n",
       "      <td>5</td>\n",
       "      <td>20</td>\n",
       "      <td>10.45</td>\n",
       "      <td>33.421</td>\n",
       "    </tr>\n",
       "  </tbody>\n",
       "</table>\n",
       "</div>"
      ],
      "text/plain": [
       "   Cst_Cnt  Btl_Cnt  Depthm  T_degC  Salnty\n",
       "0        1        1       0   10.50  33.440\n",
       "1        1        2       8   10.46  33.440\n",
       "2        1        3      10   10.46  33.437\n",
       "3        1        4      19   10.45  33.420\n",
       "4        1        5      20   10.45  33.421"
      ]
     },
     "execution_count": 2,
     "metadata": {},
     "output_type": "execute_result"
    }
   ],
   "source": [
    "##exploring data \n",
    "# check the first few, five by default, lines of the data\n",
    "calcofi.head()"
   ]
  },
  {
   "cell_type": "code",
   "execution_count": 3,
   "metadata": {},
   "outputs": [
    {
     "data": {
      "text/html": [
       "<div>\n",
       "<style scoped>\n",
       "    .dataframe tbody tr th:only-of-type {\n",
       "        vertical-align: middle;\n",
       "    }\n",
       "\n",
       "    .dataframe tbody tr th {\n",
       "        vertical-align: top;\n",
       "    }\n",
       "\n",
       "    .dataframe thead th {\n",
       "        text-align: right;\n",
       "    }\n",
       "</style>\n",
       "<table border=\"1\" class=\"dataframe\">\n",
       "  <thead>\n",
       "    <tr style=\"text-align: right;\">\n",
       "      <th></th>\n",
       "      <th>Cst_Cnt</th>\n",
       "      <th>Btl_Cnt</th>\n",
       "      <th>Depthm</th>\n",
       "      <th>T_degC</th>\n",
       "      <th>Salnty</th>\n",
       "    </tr>\n",
       "  </thead>\n",
       "  <tbody>\n",
       "    <tr>\n",
       "      <th>875</th>\n",
       "      <td>30</td>\n",
       "      <td>905</td>\n",
       "      <td>700</td>\n",
       "      <td>5.25</td>\n",
       "      <td>34.328</td>\n",
       "    </tr>\n",
       "    <tr>\n",
       "      <th>876</th>\n",
       "      <td>30</td>\n",
       "      <td>906</td>\n",
       "      <td>800</td>\n",
       "      <td>4.83</td>\n",
       "      <td>34.373</td>\n",
       "    </tr>\n",
       "    <tr>\n",
       "      <th>877</th>\n",
       "      <td>30</td>\n",
       "      <td>907</td>\n",
       "      <td>900</td>\n",
       "      <td>4.42</td>\n",
       "      <td>34.422</td>\n",
       "    </tr>\n",
       "    <tr>\n",
       "      <th>878</th>\n",
       "      <td>30</td>\n",
       "      <td>908</td>\n",
       "      <td>917</td>\n",
       "      <td>4.35</td>\n",
       "      <td>34.430</td>\n",
       "    </tr>\n",
       "    <tr>\n",
       "      <th>879</th>\n",
       "      <td>30</td>\n",
       "      <td>912</td>\n",
       "      <td>1263</td>\n",
       "      <td>3.36</td>\n",
       "      <td>34.650</td>\n",
       "    </tr>\n",
       "  </tbody>\n",
       "</table>\n",
       "</div>"
      ],
      "text/plain": [
       "     Cst_Cnt  Btl_Cnt  Depthm  T_degC  Salnty\n",
       "875       30      905     700    5.25  34.328\n",
       "876       30      906     800    4.83  34.373\n",
       "877       30      907     900    4.42  34.422\n",
       "878       30      908     917    4.35  34.430\n",
       "879       30      912    1263    3.36  34.650"
      ]
     },
     "execution_count": 3,
     "metadata": {},
     "output_type": "execute_result"
    }
   ],
   "source": [
    "##exploring data\n",
    "# check the last few, five by default, lines of the data\n",
    "calcofi.tail()"
   ]
  },
  {
   "cell_type": "code",
   "execution_count": 15,
   "metadata": {},
   "outputs": [],
   "source": [
    "##assign values and features \n",
    "# get the proper column using the index and assign the column to the proper variable\n",
    "X = calcofi[\"T_degC\"].values\n",
    "y = calcofi[\"Salnty\"].values"
   ]
  },
  {
   "cell_type": "code",
   "execution_count": 16,
   "metadata": {},
   "outputs": [
    {
     "name": "stdout",
     "output_type": "stream",
     "text": [
      "(880,)\n",
      "(880,)\n"
     ]
    }
   ],
   "source": [
    "# check the shape and dimension of the data\n",
    "print(X.shape)\n",
    "print(y.shape)"
   ]
  },
  {
   "cell_type": "code",
   "execution_count": 17,
   "metadata": {},
   "outputs": [
    {
     "name": "stdout",
     "output_type": "stream",
     "text": [
      "(880, 1)\n"
     ]
    }
   ],
   "source": [
    "# reshape the features to a proper format (vector or matrix) for the learning model \n",
    "X = X.reshape(-1,1)\n",
    "print(X.shape)"
   ]
  },
  {
   "cell_type": "code",
   "execution_count": 18,
   "metadata": {},
   "outputs": [],
   "source": [
    "#split training \n",
    "# load necessary package and methods\n",
    "from sklearn.model_selection import train_test_split\n",
    "\n",
    "# split the training data into training set and test set\n",
    "X_train, X_test, y_train, y_test = train_test_split(\n",
    "    X, y, test_size=0.2, random_state=1)"
   ]
  },
  {
   "cell_type": "code",
   "execution_count": 19,
   "metadata": {},
   "outputs": [
    {
     "data": {
      "text/plain": [
       "(704, 1)"
      ]
     },
     "execution_count": 19,
     "metadata": {},
     "output_type": "execute_result"
    }
   ],
   "source": [
    "X_train.shape"
   ]
  },
  {
   "cell_type": "code",
   "execution_count": 20,
   "metadata": {},
   "outputs": [
    {
     "data": {
      "text/plain": [
       "LinearRegression()"
      ]
     },
     "execution_count": 20,
     "metadata": {},
     "output_type": "execute_result"
    }
   ],
   "source": [
    "# learning\n",
    "#import packages \n",
    "from sklearn.linear_model import LinearRegression\n",
    "\n",
    "# build a linear regression model\n",
    "# set the regression\n",
    "slr_model = LinearRegression()\n",
    "\n",
    "# fit the model with training set\n",
    "slr_model.fit(X_train,y_train)"
   ]
  },
  {
   "cell_type": "code",
   "execution_count": 49,
   "metadata": {},
   "outputs": [
    {
     "name": "stdout",
     "output_type": "stream",
     "text": [
      "intercept: 34.823425108800436\n",
      "slope: [-0.1387568]\n",
      "score: 0.7366024097840789\n"
     ]
    }
   ],
   "source": [
    "#show the result of learning: information about the model\n",
    "print('intercept:', slr_model.intercept_)\n",
    "print('slope:', slr_model.coef_)\n",
    "\n",
    "print('score:', slr_model.score(X_train,y_train))"
   ]
  },
  {
   "cell_type": "code",
   "execution_count": 50,
   "metadata": {},
   "outputs": [
    {
     "name": "stdout",
     "output_type": "stream",
     "text": [
      "[33.99088431]\n"
     ]
    }
   ],
   "source": [
    "# prediction\n",
    "X_new = [[6]]\n",
    "print(slr_model.predict(X_new))"
   ]
  },
  {
   "cell_type": "markdown",
   "metadata": {},
   "source": [
    "### [Bonus] Build Simple Linear Regression Model with Gradient Descent for Real-world Data\n",
    "\n",
    "Q19.\n",
    "\n",
    "Please use the same data set (i.e., \"calcofi.csv\") as what you use above for Q18 to train a simple linear regression with gradient descent functions you defined. Include the preprocessing, learning, and prediction steps. *Answer the questions after you build the model.*\n",
    "\n",
    "*In the prediction step, please use the same value of the water temperature you select in Q18. *"
   ]
  },
  {
   "cell_type": "code",
   "execution_count": 51,
   "metadata": {},
   "outputs": [],
   "source": [
    "## preprocessing\n",
    "# import packages for future use in this notebook \n",
    "# please import the packages you plan to use, if prefered\n",
    "import pandas as pd\n",
    "import numpy as np\n",
    "import matplotlib.pyplot as plt"
   ]
  },
  {
   "cell_type": "code",
   "execution_count": 52,
   "metadata": {},
   "outputs": [],
   "source": [
    "#load the data \n",
    "calcofi = pd.read_csv(\"./datasets/calcofi.csv\")"
   ]
  },
  {
   "cell_type": "code",
   "execution_count": 53,
   "metadata": {},
   "outputs": [
    {
     "name": "stdout",
     "output_type": "stream",
     "text": [
      "(880, 5)\n",
      "2\n"
     ]
    }
   ],
   "source": [
    "# check the shape of the DataFrame: rows and columns\n",
    "print(calcofi.shape)\n",
    "\n",
    "# check the dimension of the DataFrame\n",
    "print(calcofi.ndim)"
   ]
  },
  {
   "cell_type": "code",
   "execution_count": 28,
   "metadata": {},
   "outputs": [
    {
     "data": {
      "text/html": [
       "<div>\n",
       "<style scoped>\n",
       "    .dataframe tbody tr th:only-of-type {\n",
       "        vertical-align: middle;\n",
       "    }\n",
       "\n",
       "    .dataframe tbody tr th {\n",
       "        vertical-align: top;\n",
       "    }\n",
       "\n",
       "    .dataframe thead th {\n",
       "        text-align: right;\n",
       "    }\n",
       "</style>\n",
       "<table border=\"1\" class=\"dataframe\">\n",
       "  <thead>\n",
       "    <tr style=\"text-align: right;\">\n",
       "      <th></th>\n",
       "      <th>Cst_Cnt</th>\n",
       "      <th>Btl_Cnt</th>\n",
       "      <th>Depthm</th>\n",
       "      <th>T_degC</th>\n",
       "      <th>Salnty</th>\n",
       "    </tr>\n",
       "  </thead>\n",
       "  <tbody>\n",
       "    <tr>\n",
       "      <th>0</th>\n",
       "      <td>1</td>\n",
       "      <td>1</td>\n",
       "      <td>0</td>\n",
       "      <td>10.50</td>\n",
       "      <td>33.440</td>\n",
       "    </tr>\n",
       "    <tr>\n",
       "      <th>1</th>\n",
       "      <td>1</td>\n",
       "      <td>2</td>\n",
       "      <td>8</td>\n",
       "      <td>10.46</td>\n",
       "      <td>33.440</td>\n",
       "    </tr>\n",
       "    <tr>\n",
       "      <th>2</th>\n",
       "      <td>1</td>\n",
       "      <td>3</td>\n",
       "      <td>10</td>\n",
       "      <td>10.46</td>\n",
       "      <td>33.437</td>\n",
       "    </tr>\n",
       "    <tr>\n",
       "      <th>3</th>\n",
       "      <td>1</td>\n",
       "      <td>4</td>\n",
       "      <td>19</td>\n",
       "      <td>10.45</td>\n",
       "      <td>33.420</td>\n",
       "    </tr>\n",
       "    <tr>\n",
       "      <th>4</th>\n",
       "      <td>1</td>\n",
       "      <td>5</td>\n",
       "      <td>20</td>\n",
       "      <td>10.45</td>\n",
       "      <td>33.421</td>\n",
       "    </tr>\n",
       "  </tbody>\n",
       "</table>\n",
       "</div>"
      ],
      "text/plain": [
       "   Cst_Cnt  Btl_Cnt  Depthm  T_degC  Salnty\n",
       "0        1        1       0   10.50  33.440\n",
       "1        1        2       8   10.46  33.440\n",
       "2        1        3      10   10.46  33.437\n",
       "3        1        4      19   10.45  33.420\n",
       "4        1        5      20   10.45  33.421"
      ]
     },
     "execution_count": 28,
     "metadata": {},
     "output_type": "execute_result"
    }
   ],
   "source": [
    "##exploring data \n",
    "# check the first few, five by default, lines of the data\n",
    "calcofi.head()"
   ]
  },
  {
   "cell_type": "code",
   "execution_count": 29,
   "metadata": {},
   "outputs": [
    {
     "data": {
      "text/html": [
       "<div>\n",
       "<style scoped>\n",
       "    .dataframe tbody tr th:only-of-type {\n",
       "        vertical-align: middle;\n",
       "    }\n",
       "\n",
       "    .dataframe tbody tr th {\n",
       "        vertical-align: top;\n",
       "    }\n",
       "\n",
       "    .dataframe thead th {\n",
       "        text-align: right;\n",
       "    }\n",
       "</style>\n",
       "<table border=\"1\" class=\"dataframe\">\n",
       "  <thead>\n",
       "    <tr style=\"text-align: right;\">\n",
       "      <th></th>\n",
       "      <th>Cst_Cnt</th>\n",
       "      <th>Btl_Cnt</th>\n",
       "      <th>Depthm</th>\n",
       "      <th>T_degC</th>\n",
       "      <th>Salnty</th>\n",
       "    </tr>\n",
       "  </thead>\n",
       "  <tbody>\n",
       "    <tr>\n",
       "      <th>875</th>\n",
       "      <td>30</td>\n",
       "      <td>905</td>\n",
       "      <td>700</td>\n",
       "      <td>5.25</td>\n",
       "      <td>34.328</td>\n",
       "    </tr>\n",
       "    <tr>\n",
       "      <th>876</th>\n",
       "      <td>30</td>\n",
       "      <td>906</td>\n",
       "      <td>800</td>\n",
       "      <td>4.83</td>\n",
       "      <td>34.373</td>\n",
       "    </tr>\n",
       "    <tr>\n",
       "      <th>877</th>\n",
       "      <td>30</td>\n",
       "      <td>907</td>\n",
       "      <td>900</td>\n",
       "      <td>4.42</td>\n",
       "      <td>34.422</td>\n",
       "    </tr>\n",
       "    <tr>\n",
       "      <th>878</th>\n",
       "      <td>30</td>\n",
       "      <td>908</td>\n",
       "      <td>917</td>\n",
       "      <td>4.35</td>\n",
       "      <td>34.430</td>\n",
       "    </tr>\n",
       "    <tr>\n",
       "      <th>879</th>\n",
       "      <td>30</td>\n",
       "      <td>912</td>\n",
       "      <td>1263</td>\n",
       "      <td>3.36</td>\n",
       "      <td>34.650</td>\n",
       "    </tr>\n",
       "  </tbody>\n",
       "</table>\n",
       "</div>"
      ],
      "text/plain": [
       "     Cst_Cnt  Btl_Cnt  Depthm  T_degC  Salnty\n",
       "875       30      905     700    5.25  34.328\n",
       "876       30      906     800    4.83  34.373\n",
       "877       30      907     900    4.42  34.422\n",
       "878       30      908     917    4.35  34.430\n",
       "879       30      912    1263    3.36  34.650"
      ]
     },
     "execution_count": 29,
     "metadata": {},
     "output_type": "execute_result"
    }
   ],
   "source": [
    "##exploring data\n",
    "# check the last few, five by default, lines of the data\n",
    "calcofi.tail()"
   ]
  },
  {
   "cell_type": "code",
   "execution_count": 30,
   "metadata": {},
   "outputs": [
    {
     "ename": "KeyError",
     "evalue": "''",
     "output_type": "error",
     "traceback": [
      "\u001b[0;31m---------------------------------------------------------------------------\u001b[0m",
      "\u001b[0;31mKeyError\u001b[0m                                  Traceback (most recent call last)",
      "\u001b[0;32m~/opt/anaconda3/lib/python3.8/site-packages/pandas/core/indexes/base.py\u001b[0m in \u001b[0;36mget_loc\u001b[0;34m(self, key, method, tolerance)\u001b[0m\n\u001b[1;32m   2894\u001b[0m             \u001b[0;32mtry\u001b[0m\u001b[0;34m:\u001b[0m\u001b[0;34m\u001b[0m\u001b[0;34m\u001b[0m\u001b[0m\n\u001b[0;32m-> 2895\u001b[0;31m                 \u001b[0;32mreturn\u001b[0m \u001b[0mself\u001b[0m\u001b[0;34m.\u001b[0m\u001b[0m_engine\u001b[0m\u001b[0;34m.\u001b[0m\u001b[0mget_loc\u001b[0m\u001b[0;34m(\u001b[0m\u001b[0mcasted_key\u001b[0m\u001b[0;34m)\u001b[0m\u001b[0;34m\u001b[0m\u001b[0;34m\u001b[0m\u001b[0m\n\u001b[0m\u001b[1;32m   2896\u001b[0m             \u001b[0;32mexcept\u001b[0m \u001b[0mKeyError\u001b[0m \u001b[0;32mas\u001b[0m \u001b[0merr\u001b[0m\u001b[0;34m:\u001b[0m\u001b[0;34m\u001b[0m\u001b[0;34m\u001b[0m\u001b[0m\n",
      "\u001b[0;32mpandas/_libs/index.pyx\u001b[0m in \u001b[0;36mpandas._libs.index.IndexEngine.get_loc\u001b[0;34m()\u001b[0m\n",
      "\u001b[0;32mpandas/_libs/index.pyx\u001b[0m in \u001b[0;36mpandas._libs.index.IndexEngine.get_loc\u001b[0;34m()\u001b[0m\n",
      "\u001b[0;32mpandas/_libs/hashtable_class_helper.pxi\u001b[0m in \u001b[0;36mpandas._libs.hashtable.PyObjectHashTable.get_item\u001b[0;34m()\u001b[0m\n",
      "\u001b[0;32mpandas/_libs/hashtable_class_helper.pxi\u001b[0m in \u001b[0;36mpandas._libs.hashtable.PyObjectHashTable.get_item\u001b[0;34m()\u001b[0m\n",
      "\u001b[0;31mKeyError\u001b[0m: ''",
      "\nThe above exception was the direct cause of the following exception:\n",
      "\u001b[0;31mKeyError\u001b[0m                                  Traceback (most recent call last)",
      "\u001b[0;32m<ipython-input-30-0ecf2cddc62f>\u001b[0m in \u001b[0;36m<module>\u001b[0;34m\u001b[0m\n\u001b[1;32m      1\u001b[0m \u001b[0;31m##assign values and features\u001b[0m\u001b[0;34m\u001b[0m\u001b[0;34m\u001b[0m\u001b[0;34m\u001b[0m\u001b[0m\n\u001b[1;32m      2\u001b[0m \u001b[0;31m# get the proper column using the index and assign the column to the proper variable\u001b[0m\u001b[0;34m\u001b[0m\u001b[0;34m\u001b[0m\u001b[0;34m\u001b[0m\u001b[0m\n\u001b[0;32m----> 3\u001b[0;31m \u001b[0mX\u001b[0m \u001b[0;34m=\u001b[0m \u001b[0mcalcofi\u001b[0m\u001b[0;34m[\u001b[0m\u001b[0;34m\"\"\u001b[0m\u001b[0;34m]\u001b[0m\u001b[0;34m.\u001b[0m\u001b[0mvalues\u001b[0m\u001b[0;34m\u001b[0m\u001b[0;34m\u001b[0m\u001b[0m\n\u001b[0m\u001b[1;32m      4\u001b[0m \u001b[0my\u001b[0m \u001b[0;34m=\u001b[0m \u001b[0mcalcofi\u001b[0m\u001b[0;34m[\u001b[0m\u001b[0;34m\"price_usd1000\"\u001b[0m\u001b[0;34m]\u001b[0m\u001b[0;34m.\u001b[0m\u001b[0mvalues\u001b[0m\u001b[0;34m\u001b[0m\u001b[0;34m\u001b[0m\u001b[0m\n",
      "\u001b[0;32m~/opt/anaconda3/lib/python3.8/site-packages/pandas/core/frame.py\u001b[0m in \u001b[0;36m__getitem__\u001b[0;34m(self, key)\u001b[0m\n\u001b[1;32m   2900\u001b[0m             \u001b[0;32mif\u001b[0m \u001b[0mself\u001b[0m\u001b[0;34m.\u001b[0m\u001b[0mcolumns\u001b[0m\u001b[0;34m.\u001b[0m\u001b[0mnlevels\u001b[0m \u001b[0;34m>\u001b[0m \u001b[0;36m1\u001b[0m\u001b[0;34m:\u001b[0m\u001b[0;34m\u001b[0m\u001b[0;34m\u001b[0m\u001b[0m\n\u001b[1;32m   2901\u001b[0m                 \u001b[0;32mreturn\u001b[0m \u001b[0mself\u001b[0m\u001b[0;34m.\u001b[0m\u001b[0m_getitem_multilevel\u001b[0m\u001b[0;34m(\u001b[0m\u001b[0mkey\u001b[0m\u001b[0;34m)\u001b[0m\u001b[0;34m\u001b[0m\u001b[0;34m\u001b[0m\u001b[0m\n\u001b[0;32m-> 2902\u001b[0;31m             \u001b[0mindexer\u001b[0m \u001b[0;34m=\u001b[0m \u001b[0mself\u001b[0m\u001b[0;34m.\u001b[0m\u001b[0mcolumns\u001b[0m\u001b[0;34m.\u001b[0m\u001b[0mget_loc\u001b[0m\u001b[0;34m(\u001b[0m\u001b[0mkey\u001b[0m\u001b[0;34m)\u001b[0m\u001b[0;34m\u001b[0m\u001b[0;34m\u001b[0m\u001b[0m\n\u001b[0m\u001b[1;32m   2903\u001b[0m             \u001b[0;32mif\u001b[0m \u001b[0mis_integer\u001b[0m\u001b[0;34m(\u001b[0m\u001b[0mindexer\u001b[0m\u001b[0;34m)\u001b[0m\u001b[0;34m:\u001b[0m\u001b[0;34m\u001b[0m\u001b[0;34m\u001b[0m\u001b[0m\n\u001b[1;32m   2904\u001b[0m                 \u001b[0mindexer\u001b[0m \u001b[0;34m=\u001b[0m \u001b[0;34m[\u001b[0m\u001b[0mindexer\u001b[0m\u001b[0;34m]\u001b[0m\u001b[0;34m\u001b[0m\u001b[0;34m\u001b[0m\u001b[0m\n",
      "\u001b[0;32m~/opt/anaconda3/lib/python3.8/site-packages/pandas/core/indexes/base.py\u001b[0m in \u001b[0;36mget_loc\u001b[0;34m(self, key, method, tolerance)\u001b[0m\n\u001b[1;32m   2895\u001b[0m                 \u001b[0;32mreturn\u001b[0m \u001b[0mself\u001b[0m\u001b[0;34m.\u001b[0m\u001b[0m_engine\u001b[0m\u001b[0;34m.\u001b[0m\u001b[0mget_loc\u001b[0m\u001b[0;34m(\u001b[0m\u001b[0mcasted_key\u001b[0m\u001b[0;34m)\u001b[0m\u001b[0;34m\u001b[0m\u001b[0;34m\u001b[0m\u001b[0m\n\u001b[1;32m   2896\u001b[0m             \u001b[0;32mexcept\u001b[0m \u001b[0mKeyError\u001b[0m \u001b[0;32mas\u001b[0m \u001b[0merr\u001b[0m\u001b[0;34m:\u001b[0m\u001b[0;34m\u001b[0m\u001b[0;34m\u001b[0m\u001b[0m\n\u001b[0;32m-> 2897\u001b[0;31m                 \u001b[0;32mraise\u001b[0m \u001b[0mKeyError\u001b[0m\u001b[0;34m(\u001b[0m\u001b[0mkey\u001b[0m\u001b[0;34m)\u001b[0m \u001b[0;32mfrom\u001b[0m \u001b[0merr\u001b[0m\u001b[0;34m\u001b[0m\u001b[0;34m\u001b[0m\u001b[0m\n\u001b[0m\u001b[1;32m   2898\u001b[0m \u001b[0;34m\u001b[0m\u001b[0m\n\u001b[1;32m   2899\u001b[0m         \u001b[0;32mif\u001b[0m \u001b[0mtolerance\u001b[0m \u001b[0;32mis\u001b[0m \u001b[0;32mnot\u001b[0m \u001b[0;32mNone\u001b[0m\u001b[0;34m:\u001b[0m\u001b[0;34m\u001b[0m\u001b[0;34m\u001b[0m\u001b[0m\n",
      "\u001b[0;31mKeyError\u001b[0m: ''"
     ]
    }
   ],
   "source": [
    "##assign values and features \n",
    "# get the proper column using the index and assign the column to the proper variable\n",
    "X = calcofi[\"\"].values\n",
    "y = calcofi[\"price_usd1000\"].values"
   ]
  },
  {
   "cell_type": "code",
   "execution_count": null,
   "metadata": {},
   "outputs": [],
   "source": [
    "# learning\n"
   ]
  },
  {
   "cell_type": "code",
   "execution_count": null,
   "metadata": {},
   "outputs": [],
   "source": [
    "# prediction\n"
   ]
  },
  {
   "cell_type": "markdown",
   "metadata": {},
   "source": [
    "Questions:\n",
    "- Compare the two models (the one with gradience desent algorithm vs. the one with scikit-learn), do they give you similar models or not?\n",
    "- How?"
   ]
  },
  {
   "cell_type": "markdown",
   "metadata": {},
   "source": [
    "< your solution here >"
   ]
  }
 ],
 "metadata": {
  "kernelspec": {
   "display_name": "Python 3",
   "language": "python",
   "name": "python3"
  },
  "language_info": {
   "codemirror_mode": {
    "name": "ipython",
    "version": 3
   },
   "file_extension": ".py",
   "mimetype": "text/x-python",
   "name": "python",
   "nbconvert_exporter": "python",
   "pygments_lexer": "ipython3",
   "version": "3.8.5"
  }
 },
 "nbformat": 4,
 "nbformat_minor": 2
}
